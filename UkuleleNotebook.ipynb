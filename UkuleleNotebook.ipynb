{
 "cells": [
  {
   "cell_type": "markdown",
   "metadata": {},
   "source": [
    "# Lab 5: Google Speech Commands"
   ]
  },
  {
   "cell_type": "markdown",
   "metadata": {
    "tags": []
   },
   "source": [
    "## Imports"
   ]
  },
  {
   "cell_type": "code",
   "execution_count": 177,
   "metadata": {},
   "outputs": [],
   "source": [
    "import copy\n",
    "import wave\n",
    "import os\n",
    "from matplotlib import pyplot as plt\n",
    "from pathlib import Path\n",
    "import numpy as np\n",
    "import tensorflow as tf\n",
    "from keras.models import Sequential\n",
    "from keras.layers import Input, Conv1D, AvgPool1D, MaxPool1D, ZeroPadding1D, BatchNormalization, Flatten, Dense, Activation, Dropout\n",
    "from keras.utils.data_utils import get_file\n",
    "from keras.utils.np_utils import to_categorical"
   ]
  },
  {
   "attachments": {},
   "cell_type": "markdown",
   "metadata": {},
   "source": [
    "## Create the testing List"
   ]
  },
  {
   "cell_type": "code",
   "execution_count": 178,
   "metadata": {},
   "outputs": [],
   "source": [
    "dataset_dir = Path('dataset')\n",
    "END_LETTER = 'G'\n",
    "END_NUMBER = 15\n",
    "\n",
    "with open(dataset_dir/'testing_list.txt', 'w') as f:\n",
    "    for letter in range(ord('A'), ord(END_LETTER)+1):\n",
    "        for number in range(END_NUMBER+1):\n",
    "            f.write('{}/{}_{:d}.wav\\n'.format( chr(letter), chr(letter), number))\n"
   ]
  },
  {
   "cell_type": "markdown",
   "metadata": {},
   "source": [
    "## Load raw spoken digits data from Google Speech Commands"
   ]
  },
  {
   "cell_type": "code",
   "execution_count": 179,
   "metadata": {},
   "outputs": [
    {
     "name": "stdout",
     "output_type": "stream",
     "text": [
      "['A', 'B', 'C', 'D', 'E', 'F', 'G']\n"
     ]
    }
   ],
   "source": [
    "# Classes to handle, ordered by label\n",
    "\n",
    "# get a list of all directories in the directory\n",
    "CLASSES = [name for name in os.listdir(dataset_dir) if os.path.isdir(os.path.join(dataset_dir, name))]\n",
    "print(CLASSES)\n",
    "# not needed in this section, but to know the number of them when we do the dense layers (output)\n",
    "\n",
    "with (dataset_dir/'testing_list.txt').open() as f:\n",
    "    testing_list = f.read().splitlines()\n",
    "\n",
    "#print(testing_list)\n",
    "x_train = []\n",
    "y_train = []\n",
    "x_test = []\n",
    "y_test = []\n",
    "\n",
    "for recording in dataset_dir.glob(f'**/*.wav'):\n",
    "    #if not recording.parent.name in CLASSES: # Ignore unused classes\n",
    "    #    continue\n",
    "    label = CLASSES.index(recording.parent.name) # Assign class number\n",
    "    \n",
    "    with wave.open(str(recording)) as f: # Read wave file\n",
    "        data = np.frombuffer(f.readframes(f.getnframes()), dtype=np.int16).copy() # As 16-bit signed integer\n",
    "        \n",
    "    data = data.astype(np.float32) # Convert to 32-bit floating-point\n",
    "    data.resize((16000, 1)) # Resize to 1s (16kHz) with zero-padding, 1 channel\n",
    "    #print(str(recording.relative_to(dataset_dir)))\n",
    "    if str(recording.relative_to(dataset_dir)).replace(\"\\\\\",\"/\") in testing_list: # Assign to test set if file in test list\n",
    "        \n",
    "        x_test.append(data)\n",
    "        y_test.append(label)\n",
    "    else:\n",
    "        x_train.append(data)\n",
    "        y_train.append(label)\n",
    "\n",
    "x_train = np.array(x_train)\n",
    "y_train = to_categorical(np.array(y_train))\n",
    "x_test = np.array(x_test)\n",
    "y_test = to_categorical(np.array(y_test))"
   ]
  },
  {
   "cell_type": "markdown",
   "metadata": {},
   "source": [
    "## Prepare for inference with fixed-point Q7.9 samples by scaling input data accordingly"
   ]
  },
  {
   "cell_type": "code",
   "execution_count": 180,
   "metadata": {},
   "outputs": [],
   "source": [
    "FIXED_POINT = 9\n",
    "x_train /= 2**FIXED_POINT\n",
    "x_test  /= 2**FIXED_POINT"
   ]
  },
  {
   "attachments": {},
   "cell_type": "markdown",
   "metadata": {},
   "source": [
    "## Export small dataset"
   ]
  },
  {
   "cell_type": "code",
   "execution_count": 181,
   "metadata": {},
   "outputs": [],
   "source": [
    "perms = np.random.permutation(len(y_test))[0:40]\n",
    "x_test_small = x_test[perms]\n",
    "y_test_small = y_test[perms]\n",
    "np.savetxt('x_test_small.csv', x_test_small.reshape((x_test_small.shape[0], -1)), delimiter=',', fmt='%s')\n",
    "np.savetxt('y_test_small.csv', y_test_small, delimiter=',', fmt='%s')"
   ]
  },
  {
   "cell_type": "markdown",
   "metadata": {
    "tags": []
   },
   "source": [
    "## Build model M5"
   ]
  },
  {
   "cell_type": "code",
   "execution_count": 195,
   "metadata": {},
   "outputs": [
    {
     "name": "stdout",
     "output_type": "stream",
     "text": [
      "Model: \"sequential_29\"\n",
      "_________________________________________________________________\n",
      " Layer (type)                Output Shape              Param #   \n",
      "=================================================================\n",
      " max_pooling1d_145 (MaxPooli  (None, 8000, 1)          0         \n",
      " ng1D)                                                           \n",
      "                                                                 \n",
      " conv1d_116 (Conv1D)         (None, 998, 16)           336       \n",
      "                                                                 \n",
      " max_pooling1d_146 (MaxPooli  (None, 499, 16)          0         \n",
      " ng1D)                                                           \n",
      "                                                                 \n",
      " conv1d_117 (Conv1D)         (None, 249, 32)           1568      \n",
      "                                                                 \n",
      " max_pooling1d_147 (MaxPooli  (None, 124, 32)          0         \n",
      " ng1D)                                                           \n",
      "                                                                 \n",
      " conv1d_118 (Conv1D)         (None, 61, 64)            6208      \n",
      "                                                                 \n",
      " max_pooling1d_148 (MaxPooli  (None, 30, 64)           0         \n",
      " ng1D)                                                           \n",
      "                                                                 \n",
      " conv1d_119 (Conv1D)         (None, 28, 128)           24704     \n",
      "                                                                 \n",
      " max_pooling1d_149 (MaxPooli  (None, 14, 128)          0         \n",
      " ng1D)                                                           \n",
      "                                                                 \n",
      "=================================================================\n",
      "Total params: 32,816\n",
      "Trainable params: 32,816\n",
      "Non-trainable params: 0\n",
      "_________________________________________________________________\n"
     ]
    }
   ],
   "source": [
    "\n",
    "model = Sequential()\n",
    "model.add(Input(shape=(16000, 1)))\n",
    "# under 120kB of data flow, (ram), 1MB flash\n",
    "model.add(MaxPool1D(pool_size=2)) \n",
    "model.add(Conv1D(filters=16, kernel_size=20, strides = 8, activation='relu'))\n",
    "model.add(MaxPool1D(pool_size=2)) \n",
    "model.add(Conv1D(filters=32, kernel_size=3, strides = 2, activation='relu'))\n",
    "model.add(MaxPool1D(pool_size=2)) \n",
    "model.add(Conv1D(filters=64, kernel_size=3, strides = 2, activation='relu'))\n",
    "model.add(MaxPool1D(pool_size=2)) \n",
    "model.add(Conv1D(filters=128, kernel_size=3, strides = 1, activation='relu'))\n",
    "model.add(MaxPool1D(pool_size=2)) \n",
    "\n",
    "model.summary() #we were checking here in order to get the infos about how to avgPool\n",
    "model.add(AvgPool1D(pool_size=14)) #squeeze the temporal dimensions on 1 to only have the filters\n",
    "model.add(Flatten())\n",
    "model.add(Dense(units=40))\n",
    "model.add(Dense(units=len(CLASSES)))\n",
    "model.add(Activation('softmax')) # SoftMax activation needs to be separate from Dense to remove it later on\n",
    "\n",
    "# EXPLORE Learning Rate\n",
    "opt = tf.keras.optimizers.Adam(learning_rate=10e-5)\n",
    "#model.summary()\n",
    "model.compile(optimizer=opt, loss='categorical_crossentropy', metrics=['categorical_accuracy'])\n",
    "\n",
    "\n"
   ]
  },
  {
   "cell_type": "markdown",
   "metadata": {},
   "source": [
    "## Train model"
   ]
  },
  {
   "cell_type": "code",
   "execution_count": 196,
   "metadata": {},
   "outputs": [
    {
     "name": "stdout",
     "output_type": "stream",
     "text": [
      "Epoch 1/25\n",
      "193/193 [==============================] - 3s 9ms/step - loss: 1.8336 - categorical_accuracy: 0.2571 - val_loss: 1.6528 - val_categorical_accuracy: 0.3036\n",
      "Epoch 2/25\n",
      "193/193 [==============================] - 1s 7ms/step - loss: 1.5298 - categorical_accuracy: 0.4364 - val_loss: 1.3927 - val_categorical_accuracy: 0.5893\n",
      "Epoch 3/25\n",
      "193/193 [==============================] - 1s 7ms/step - loss: 1.2745 - categorical_accuracy: 0.5870 - val_loss: 1.2303 - val_categorical_accuracy: 0.5536\n",
      "Epoch 4/25\n",
      "193/193 [==============================] - 1s 7ms/step - loss: 1.0915 - categorical_accuracy: 0.6390 - val_loss: 1.1076 - val_categorical_accuracy: 0.5625\n",
      "Epoch 5/25\n",
      "193/193 [==============================] - 1s 7ms/step - loss: 0.9321 - categorical_accuracy: 0.6779 - val_loss: 0.9328 - val_categorical_accuracy: 0.6696\n",
      "Epoch 6/25\n",
      "193/193 [==============================] - 1s 7ms/step - loss: 0.8188 - categorical_accuracy: 0.7351 - val_loss: 0.8655 - val_categorical_accuracy: 0.6964\n",
      "Epoch 7/25\n",
      "193/193 [==============================] - 1s 7ms/step - loss: 0.7211 - categorical_accuracy: 0.7740 - val_loss: 0.7310 - val_categorical_accuracy: 0.7321\n",
      "Epoch 8/25\n",
      "193/193 [==============================] - 1s 7ms/step - loss: 0.5714 - categorical_accuracy: 0.8571 - val_loss: 0.6436 - val_categorical_accuracy: 0.8393\n",
      "Epoch 9/25\n",
      "193/193 [==============================] - 1s 7ms/step - loss: 0.4866 - categorical_accuracy: 0.8883 - val_loss: 0.5263 - val_categorical_accuracy: 0.8929\n",
      "Epoch 10/25\n",
      "193/193 [==============================] - 1s 7ms/step - loss: 0.4014 - categorical_accuracy: 0.9013 - val_loss: 0.5383 - val_categorical_accuracy: 0.8214\n",
      "Epoch 11/25\n",
      "193/193 [==============================] - 1s 7ms/step - loss: 0.3539 - categorical_accuracy: 0.9117 - val_loss: 0.4606 - val_categorical_accuracy: 0.8571\n",
      "Epoch 12/25\n",
      "193/193 [==============================] - 1s 7ms/step - loss: 0.3034 - categorical_accuracy: 0.9377 - val_loss: 0.4270 - val_categorical_accuracy: 0.8482\n",
      "Epoch 13/25\n",
      "193/193 [==============================] - 1s 7ms/step - loss: 0.2681 - categorical_accuracy: 0.9351 - val_loss: 0.3918 - val_categorical_accuracy: 0.9018\n",
      "Epoch 14/25\n",
      "193/193 [==============================] - 1s 7ms/step - loss: 0.2313 - categorical_accuracy: 0.9455 - val_loss: 0.3845 - val_categorical_accuracy: 0.8482\n",
      "Epoch 15/25\n",
      "193/193 [==============================] - 1s 7ms/step - loss: 0.1960 - categorical_accuracy: 0.9532 - val_loss: 0.4581 - val_categorical_accuracy: 0.7946\n",
      "Epoch 16/25\n",
      "193/193 [==============================] - 1s 7ms/step - loss: 0.1918 - categorical_accuracy: 0.9610 - val_loss: 0.3514 - val_categorical_accuracy: 0.8571\n",
      "Epoch 17/25\n",
      "193/193 [==============================] - 1s 7ms/step - loss: 0.1782 - categorical_accuracy: 0.9481 - val_loss: 0.2853 - val_categorical_accuracy: 0.9286\n",
      "Epoch 18/25\n",
      "193/193 [==============================] - 1s 7ms/step - loss: 0.1347 - categorical_accuracy: 0.9662 - val_loss: 0.2941 - val_categorical_accuracy: 0.9286\n",
      "Epoch 19/25\n",
      "193/193 [==============================] - 1s 7ms/step - loss: 0.1239 - categorical_accuracy: 0.9792 - val_loss: 0.2873 - val_categorical_accuracy: 0.9107\n",
      "Epoch 20/25\n",
      "193/193 [==============================] - 1s 7ms/step - loss: 0.1137 - categorical_accuracy: 0.9740 - val_loss: 0.2748 - val_categorical_accuracy: 0.9018\n",
      "Epoch 21/25\n",
      "193/193 [==============================] - 1s 7ms/step - loss: 0.0991 - categorical_accuracy: 0.9818 - val_loss: 0.2730 - val_categorical_accuracy: 0.9286\n",
      "Epoch 22/25\n",
      "193/193 [==============================] - 1s 7ms/step - loss: 0.1002 - categorical_accuracy: 0.9818 - val_loss: 0.2448 - val_categorical_accuracy: 0.9554\n",
      "Epoch 23/25\n",
      "193/193 [==============================] - 1s 7ms/step - loss: 0.0911 - categorical_accuracy: 0.9792 - val_loss: 0.2848 - val_categorical_accuracy: 0.9196\n",
      "Epoch 24/25\n",
      "193/193 [==============================] - 1s 7ms/step - loss: 0.0987 - categorical_accuracy: 0.9688 - val_loss: 0.2567 - val_categorical_accuracy: 0.9286\n",
      "Epoch 25/25\n",
      "193/193 [==============================] - 1s 7ms/step - loss: 0.0716 - categorical_accuracy: 0.9870 - val_loss: 0.2505 - val_categorical_accuracy: 0.9375\n"
     ]
    },
    {
     "data": {
      "image/png": "[encoded data removed]",
      "text/plain": [
       "<Figure size 640x480 with 1 Axes>"
      ]
     },
     "metadata": {},
     "output_type": "display_data"
    }
   ],
   "source": [
    "history = model.fit(x_train, y_train, epochs=25, batch_size=2, validation_data=(x_test, y_test)) \n",
    "plt.plot(history.history['categorical_accuracy'])\n",
    "plt.plot(history.history['val_categorical_accuracy'])\n",
    "plt.title('model accuracy')\n",
    "plt.ylabel('accuracy')\n",
    "plt.xlabel('epoch')\n",
    "plt.legend(['train', 'val'], loc='upper left')\n",
    "plt.show()"
   ]
  },
  {
   "cell_type": "markdown",
   "metadata": {},
   "source": [
    "## Evaluate model on test dataset"
   ]
  },
  {
   "cell_type": "code",
   "execution_count": 199,
   "metadata": {},
   "outputs": [
    {
     "name": "stdout",
     "output_type": "stream",
     "text": [
      "4/4 - 0s - loss: 0.2505 - categorical_accuracy: 0.9375 - 80ms/epoch - 20ms/step\n",
      "4/4 [==============================] - 0s 8ms/step\n"
     ]
    },
    {
     "data": {
      "image/png": "[encoded data removed]",
      "text/plain": [
       "<Figure size 640x480 with 2 Axes>"
      ]
     },
     "metadata": {},
     "output_type": "display_data"
    }
   ],
   "source": [
    "\"\"\"\n",
    "model.evaluate(x_test, y_test, verbose=2)\n",
    "pred_test = model.predict(x_test)\n",
    "print(tf.math.confusion_matrix(y_test.argmax(axis=1), pred_test.argmax(axis=1)))\n",
    "\"\"\"\n",
    "import seaborn as sns\n",
    "import matplotlib.pyplot as plt\n",
    "\n",
    "# Evaluate the model\n",
    "model.evaluate(x_test, y_test, verbose=2)\n",
    "\n",
    "# Predict the classes for the test data\n",
    "pred_test = model.predict(x_test)\n",
    "\n",
    "# Create the confusion matrix\n",
    "confusion_matrix = tf.math.confusion_matrix(y_test.argmax(axis=1), pred_test.argmax(axis=1))\n",
    "\n",
    "# Plot the confusion matrix as a heatmap\n",
    "sns.heatmap(confusion_matrix, annot=True, xticklabels=CLASSES, yticklabels=CLASSES,cmap=\"Blues\")\n",
    "plt.xlabel('Predicted Labels')\n",
    "plt.ylabel('True Labels')\n",
    "plt.show()"
   ]
  },
  {
   "cell_type": "markdown",
   "metadata": {
    "tags": []
   },
   "source": [
    "## Evaluate model on small dataset"
   ]
  },
  {
   "cell_type": "code",
   "execution_count": 200,
   "metadata": {},
   "outputs": [
    {
     "name": "stdout",
     "output_type": "stream",
     "text": [
      "2/2 - 0s - loss: 0.2703 - categorical_accuracy: 0.9250 - 48ms/epoch - 24ms/step\n",
      "2/2 [==============================] - 0s 16ms/step\n",
      "tf.Tensor(\n",
      "[[7 0 0 1 0 0 0]\n",
      " [0 6 0 0 0 0 0]\n",
      " [0 0 5 0 0 1 0]\n",
      " [0 0 0 4 0 0 0]\n",
      " [1 0 0 0 4 0 0]\n",
      " [0 0 0 0 0 7 0]\n",
      " [0 0 0 0 0 0 4]], shape=(7, 7), dtype=int32)\n"
     ]
    }
   ],
   "source": [
    "model.evaluate(x_test_small, y_test_small, verbose=2)\n",
    "pred_test_small = model.predict(x_test_small)\n",
    "print(tf.math.confusion_matrix(y_test_small.argmax(axis=1), pred_test_small.argmax(axis=1)))"
   ]
  },
  {
   "cell_type": "markdown",
   "metadata": {},
   "source": [
    "## Save trained model"
   ]
  },
  {
   "cell_type": "code",
   "execution_count": 201,
   "metadata": {},
   "outputs": [],
   "source": [
    "model.save('lab_gsc.h5')"
   ]
  },
  {
   "cell_type": "markdown",
   "metadata": {},
   "source": [
    "## Remove SoftMax layer"
   ]
  },
  {
   "cell_type": "code",
   "execution_count": 202,
   "metadata": {},
   "outputs": [],
   "source": [
    "model = tf.keras.Model(model.input, model.layers[-2].output, name=model.name)"
   ]
  },
  {
   "cell_type": "markdown",
   "metadata": {},
   "source": [
    "## Install MicroAI for C inference code generation (kerascnn2c module)"
   ]
  },
  {
   "cell_type": "code",
   "execution_count": 203,
   "metadata": {},
   "outputs": [
    {
     "name": "stdout",
     "output_type": "stream",
     "text": [
      "Collecting https://bitbucket.org/edge-team-leat/microai_public/get/6adfbcb347d3.zip#subdirectory=third_party/kerascnn2c_fixed\n",
      "  Downloading https://bitbucket.org/edge-team-leat/microai_public/get/6adfbcb347d3.zip (1.9 MB)\n",
      "     ---------------------------------------- 1.9/1.9 MB 889.1 kB/s eta 0:00:00\n",
      "  Preparing metadata (setup.py): started\n",
      "  Preparing metadata (setup.py): finished with status 'done'\n",
      "Requirement already satisfied: numpy in c:\\users\\zeggi\\appdata\\local\\programs\\python\\python39\\lib\\site-packages (from kerascnn2c==1.0.0) (1.21.0)\n",
      "Requirement already satisfied: jinja2 in c:\\users\\zeggi\\appdata\\local\\programs\\python\\python39\\lib\\site-packages (from kerascnn2c==1.0.0) (3.1.2)\n",
      "Requirement already satisfied: MarkupSafe>=2.0 in c:\\users\\zeggi\\appdata\\local\\programs\\python\\python39\\lib\\site-packages (from jinja2->kerascnn2c==1.0.0) (2.1.1)\n",
      "Note: you may need to restart the kernel to use updated packages.\n"
     ]
    },
    {
     "name": "stderr",
     "output_type": "stream",
     "text": [
      "\n",
      "[notice] A new release of pip available: 22.3.1 -> 23.1.2\n",
      "[notice] To update, run: python.exe -m pip install --upgrade pip\n"
     ]
    }
   ],
   "source": [
    "%pip install https://bitbucket.org/edge-team-leat/microai_public/get/6adfbcb347d3.zip#subdirectory=third_party/kerascnn2c_fixed\n",
    "import kerascnn2c"
   ]
  },
  {
   "cell_type": "markdown",
   "metadata": {
    "tags": []
   },
   "source": [
    "## Generate C code for the trained model with 16-bit fixed-point representation"
   ]
  },
  {
   "cell_type": "code",
   "execution_count": 204,
   "metadata": {},
   "outputs": [
    {
     "name": "stdout",
     "output_type": "stream",
     "text": [
      "———————————————————————————————————————————————————————————————————————————————————————————————————————\n",
      "Inputs                           | Layer                            | Outputs                         \n",
      "———————————————————————————————————————————————————————————————————————————————————————————————————————\n",
      "                                 | input_30                         | max_pooling1d_145               \n",
      "-------------------------------------------------------------------------------------------------------\n",
      "input_30                         | max_pooling1d_145                | conv1d_116                      \n",
      "-------------------------------------------------------------------------------------------------------\n",
      "max_pooling1d_145                | conv1d_116                       | max_pooling1d_146               \n",
      "-------------------------------------------------------------------------------------------------------\n",
      "conv1d_116                       | max_pooling1d_146                | conv1d_117                      \n",
      "-------------------------------------------------------------------------------------------------------\n",
      "max_pooling1d_146                | conv1d_117                       | max_pooling1d_147               \n",
      "-------------------------------------------------------------------------------------------------------\n",
      "conv1d_117                       | max_pooling1d_147                | conv1d_118                      \n",
      "-------------------------------------------------------------------------------------------------------\n",
      "max_pooling1d_147                | conv1d_118                       | max_pooling1d_148               \n",
      "-------------------------------------------------------------------------------------------------------\n",
      "conv1d_118                       | max_pooling1d_148                | conv1d_119                      \n",
      "-------------------------------------------------------------------------------------------------------\n",
      "max_pooling1d_148                | conv1d_119                       | max_pooling1d_149               \n",
      "-------------------------------------------------------------------------------------------------------\n",
      "conv1d_119                       | max_pooling1d_149                | average_pooling1d_29            \n",
      "-------------------------------------------------------------------------------------------------------\n",
      "max_pooling1d_149                | average_pooling1d_29             | flatten_29                      \n",
      "-------------------------------------------------------------------------------------------------------\n",
      "average_pooling1d_29             | flatten_29                       | dense_58                        \n",
      "-------------------------------------------------------------------------------------------------------\n",
      "flatten_29                       | dense_58                         | dense_59                        \n",
      "-------------------------------------------------------------------------------------------------------\n",
      "dense_58                         | dense_59                         |                                 \n",
      "-------------------------------------------------------------------------------------------------------\n",
      "\n",
      "After optimization:\n",
      "———————————————————————————————————————————————————————————————————————————————————————————————————————\n",
      "Inputs                           | Layer                            | Outputs                         \n",
      "———————————————————————————————————————————————————————————————————————————————————————————————————————\n",
      "                                 | input_30                         | max_pooling1d_145               \n",
      "-------------------------------------------------------------------------------------------------------\n",
      "input_30                         | max_pooling1d_145                | conv1d_116                      \n",
      "-------------------------------------------------------------------------------------------------------\n",
      "max_pooling1d_145                | conv1d_116                       | max_pooling1d_146               \n",
      "-------------------------------------------------------------------------------------------------------\n",
      "conv1d_116                       | max_pooling1d_146                | conv1d_117                      \n",
      "-------------------------------------------------------------------------------------------------------\n",
      "max_pooling1d_146                | conv1d_117                       | max_pooling1d_147               \n",
      "-------------------------------------------------------------------------------------------------------\n",
      "conv1d_117                       | max_pooling1d_147                | conv1d_118                      \n",
      "-------------------------------------------------------------------------------------------------------\n",
      "max_pooling1d_147                | conv1d_118                       | max_pooling1d_148               \n",
      "-------------------------------------------------------------------------------------------------------\n",
      "conv1d_118                       | max_pooling1d_148                | conv1d_119                      \n",
      "-------------------------------------------------------------------------------------------------------\n",
      "max_pooling1d_148                | conv1d_119                       | max_pooling1d_149               \n",
      "-------------------------------------------------------------------------------------------------------\n",
      "conv1d_119                       | max_pooling1d_149                | average_pooling1d_29            \n",
      "-------------------------------------------------------------------------------------------------------\n",
      "max_pooling1d_149                | average_pooling1d_29             | flatten_29                      \n",
      "-------------------------------------------------------------------------------------------------------\n",
      "average_pooling1d_29             | flatten_29                       | dense_58                        \n",
      "-------------------------------------------------------------------------------------------------------\n",
      "flatten_29                       | dense_58                         | dense_59                        \n",
      "-------------------------------------------------------------------------------------------------------\n",
      "dense_58                         | dense_59                         |                                 \n",
      "-------------------------------------------------------------------------------------------------------\n",
      "\n"
     ]
    }
   ],
   "source": [
    "res = kerascnn2c.Converter(output_path=Path('gsc_output_fixed'),\n",
    "                           fixed_point=FIXED_POINT, # Number of bits for the fractional part, Q7.9 format\n",
    "                           number_type='int16_t', # Data type for weights/activations (16 bits quantization)\n",
    "                           long_number_type='int32_t', # Data type for intermediate results\n",
    "                           number_min=-(2**15), # Minimum value for 16-bit signed integers\n",
    "                           number_max=(2**15)-1 # Maximum value for 16-bit signed integers\n",
    "                          ).convert_model(model)\n",
    "with open('ukulele_model_fixed2.h', 'w') as f:\n",
    "    f.write(res)"
   ]
  },
  {
   "cell_type": "markdown",
   "metadata": {
    "tags": []
   },
   "source": [
    "## Compile the 16-bit fixed-point C code for x86 and evaluate on small dataset"
   ]
  },
  {
   "cell_type": "code",
   "execution_count": 205,
   "metadata": {},
   "outputs": [
    {
     "name": "stderr",
     "output_type": "stream",
     "text": [
      "gsc_output_fixed/model.c: In function 'void cnn(const number_t (*)[16000], number_t*)':\n",
      "gsc_output_fixed/model.c:162:18: warning: left operand of comma operator has no effect [-Wunused-value]\n",
      "  162 |     activations2.average_pooling1d_29_output,\n",
      "      |     ~~~~~~~~~~~~~^~~~~~~~~~~~~~~~~~~~~~~~~~~\n",
      "Testing accuracy: 0.95\n"
     ]
    }
   ],
   "source": [
    "!g++ -Wall -Wextra -pedantic -Ofast -o gsc_fixed -Igsc_output_fixed/ gsc_output_fixed/model.c main.cpp \n",
    "!gsc_fixed x_test_small.csv y_test_small.csv\n",
    "\n",
    "#test on the entire dataset"
   ]
  }
 ],
 "metadata": {
  "kernelspec": {
   "display_name": "Python 3",
   "language": "python",
   "name": "python3"
  },
  "language_info": {
   "codemirror_mode": {
    "name": "ipython",
    "version": 3
   },
   "file_extension": ".py",
   "mimetype": "text/x-python",
   "name": "python",
   "nbconvert_exporter": "python",
   "pygments_lexer": "ipython3",
   "version": "3.9.0"
  }
 },
 "nbformat": 4,
 "nbformat_minor": 4
}
