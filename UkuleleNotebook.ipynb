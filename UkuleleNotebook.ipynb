{
 "cells": [
  {
   "cell_type": "markdown",
   "metadata": {},
   "source": [
    "# Lab 5: Google Speech Commands"
   ]
  },
  {
   "cell_type": "markdown",
   "metadata": {
    "tags": []
   },
   "source": [
    "## Imports"
   ]
  },
  {
   "cell_type": "code",
   "execution_count": 34,
   "metadata": {},
   "outputs": [],
   "source": [
    "import copy\n",
    "import wave\n",
    "from matplotlib import pyplot as plt\n",
    "from pathlib import Path\n",
    "import numpy as np\n",
    "import tensorflow as tf\n",
    "from keras.models import Sequential\n",
    "from keras.layers import Input, Conv1D, AvgPool1D, MaxPool1D, ZeroPadding1D, BatchNormalization, Flatten, Dense, Activation, Dropout\n",
    "from keras.utils.data_utils import get_file\n",
    "from keras.utils.np_utils import to_categorical"
   ]
  },
  {
   "cell_type": "markdown",
   "metadata": {},
   "source": [
    "## Download, cache and extract Google Speech Commands"
   ]
  },
  {
   "cell_type": "code",
   "execution_count": 35,
   "metadata": {},
   "outputs": [],
   "source": [
    "dataset_dir = Path('datasets')\n",
    "if not (dataset_dir/'testing_list.txt').exists(): # Assume dataset already downloaded/extracted if testing list is present\n",
    "    get_file(None, \"http://download.tensorflow.org/data/speech_commands_v0.02.tar.gz\",\n",
    "                    extract=True,\n",
    "                    file_hash=\"6b74f3901214cb2c2934e98196829835\",\n",
    "                    cache_dir='.',\n",
    "                    cache_subdir=dataset_dir)"
   ]
  },
  {
   "cell_type": "markdown",
   "metadata": {},
   "source": [
    "## Load raw spoken digits data from Google Speech Commands"
   ]
  },
  {
   "cell_type": "code",
   "execution_count": 36,
   "metadata": {},
   "outputs": [],
   "source": [
    "# Classes to handle, ordered by label\n",
    "CLASSES = ['A', 'B', 'C', 'D']\n",
    "\n",
    "with (dataset_dir/'testing_list.txt').open() as f:\n",
    "    testing_list = f.read().splitlines()\n",
    "\n",
    "#print(testing_list)\n",
    "x_train = []\n",
    "y_train = []\n",
    "x_test = []\n",
    "y_test = []\n",
    "\n",
    "for recording in dataset_dir.glob(f'**/*.wav'):\n",
    "    if not recording.parent.name in CLASSES: # Ignore unused classes\n",
    "        continue\n",
    "    label = CLASSES.index(recording.parent.name) # Assign class number\n",
    "    \n",
    "    with wave.open(str(recording)) as f: # Read wave file\n",
    "        data = np.frombuffer(f.readframes(f.getnframes()), dtype=np.int16).copy() # As 16-bit signed integer\n",
    "        \n",
    "    data = data.astype(np.float32) # Convert to 32-bit floating-point\n",
    "    data.resize((16000, 1)) # Resize to 1s (16kHz) with zero-padding, 1 channel\n",
    "    #print(str(recording.relative_to(dataset_dir)))\n",
    "    if str(recording.relative_to(dataset_dir)).replace(\"\\\\\",\"/\") in testing_list: # Assign to test set if file in test list\n",
    "        \n",
    "        x_test.append(data)\n",
    "        y_test.append(label)\n",
    "    else:\n",
    "        x_train.append(data)\n",
    "        y_train.append(label)\n",
    "\n",
    "x_train = np.array(x_train)\n",
    "y_train = to_categorical(np.array(y_train))\n",
    "x_test = np.array(x_test)\n",
    "y_test = to_categorical(np.array(y_test))"
   ]
  },
  {
   "cell_type": "markdown",
   "metadata": {},
   "source": [
    "## Prepare for inference with fixed-point Q7.9 samples by scaling input data accordingly"
   ]
  },
  {
   "cell_type": "code",
   "execution_count": 37,
   "metadata": {},
   "outputs": [],
   "source": [
    "FIXED_POINT = 9\n",
    "x_train /= 2**FIXED_POINT\n",
    "x_test  /= 2**FIXED_POINT"
   ]
  },
  {
   "cell_type": "markdown",
   "metadata": {},
   "source": [
    "## Export small dataset (250 random vectors)"
   ]
  },
  {
   "cell_type": "code",
   "execution_count": 38,
   "metadata": {},
   "outputs": [],
   "source": [
    "perms = np.random.permutation(len(y_test))[0:10]\n",
    "x_test_small = x_test[perms]\n",
    "y_test_small = y_test[perms]\n",
    "np.savetxt('x_test_small.csv', x_test_small.reshape((x_test_small.shape[0], -1)), delimiter=',', fmt='%s')\n",
    "np.savetxt('y_test_small.csv', y_test_small, delimiter=',', fmt='%s')"
   ]
  },
  {
   "cell_type": "markdown",
   "metadata": {
    "tags": []
   },
   "source": [
    "## Build model M5"
   ]
  },
  {
   "cell_type": "code",
   "execution_count": 39,
   "metadata": {},
   "outputs": [
    {
     "name": "stdout",
     "output_type": "stream",
     "text": [
      "Model: \"sequential_8\"\n",
      "_________________________________________________________________\n",
      " Layer (type)                Output Shape              Param #   \n",
      "=================================================================\n",
      " max_pooling1d_40 (MaxPoolin  (None, 8000, 1)          0         \n",
      " g1D)                                                            \n",
      "                                                                 \n",
      " conv1d_32 (Conv1D)          (None, 800, 16)           176       \n",
      "                                                                 \n",
      " max_pooling1d_41 (MaxPoolin  (None, 400, 16)          0         \n",
      " g1D)                                                            \n",
      "                                                                 \n",
      " conv1d_33 (Conv1D)          (None, 199, 32)           1568      \n",
      "                                                                 \n",
      " max_pooling1d_42 (MaxPoolin  (None, 99, 32)           0         \n",
      " g1D)                                                            \n",
      "                                                                 \n",
      " conv1d_34 (Conv1D)          (None, 49, 64)            6208      \n",
      "                                                                 \n",
      " max_pooling1d_43 (MaxPoolin  (None, 24, 64)           0         \n",
      " g1D)                                                            \n",
      "                                                                 \n",
      " conv1d_35 (Conv1D)          (None, 22, 128)           24704     \n",
      "                                                                 \n",
      " max_pooling1d_44 (MaxPoolin  (None, 11, 128)          0         \n",
      " g1D)                                                            \n",
      "                                                                 \n",
      " average_pooling1d_8 (Averag  (None, 1, 128)           0         \n",
      " ePooling1D)                                                     \n",
      "                                                                 \n",
      " flatten_8 (Flatten)         (None, 128)               0         \n",
      "                                                                 \n",
      " dense_16 (Dense)            (None, 40)                5160      \n",
      "                                                                 \n",
      " dense_17 (Dense)            (None, 4)                 164       \n",
      "                                                                 \n",
      " activation_8 (Activation)   (None, 4)                 0         \n",
      "                                                                 \n",
      "=================================================================\n",
      "Total params: 37,980\n",
      "Trainable params: 37,980\n",
      "Non-trainable params: 0\n",
      "_________________________________________________________________\n"
     ]
    }
   ],
   "source": [
    "\n",
    "model = Sequential()\n",
    "model.add(Input(shape=(16000, 1)))\n",
    "# under 120kB of data flow, (ram), 1MB flash\n",
    "model.add(MaxPool1D(pool_size=2)) \n",
    "model.add(Conv1D(filters=16, kernel_size=10, strides = 10, activation='relu'))\n",
    "model.add(MaxPool1D(pool_size=2)) \n",
    "model.add(Conv1D(filters=32, kernel_size=3, strides = 2, activation='relu'))\n",
    "model.add(MaxPool1D(pool_size=2)) \n",
    "model.add(Conv1D(filters=64, kernel_size=3, strides = 2, activation='relu'))\n",
    "model.add(MaxPool1D(pool_size=2)) \n",
    "model.add(Conv1D(filters=128, kernel_size=3, strides = 1, activation='relu'))\n",
    "model.add(MaxPool1D(pool_size=2)) \n",
    "\n",
    "#model.summary()\n",
    "model.add(AvgPool1D(pool_size=11)) #squeeze the temporal dimensions on 1 to only have the filters\n",
    "model.add(Flatten())\n",
    "model.add(Dense(units=40))\n",
    "model.add(Dense(units=len(CLASSES)))\n",
    "model.add(Activation('softmax')) # SoftMax activation needs to be separate from Dense to remove it later on\n",
    "\n",
    "# EXPLORE Learning Rate\n",
    "opt = tf.keras.optimizers.Adam(learning_rate=10e-4)\n",
    "model.summary()\n",
    "model.compile(optimizer=opt, loss='categorical_crossentropy', metrics=['categorical_accuracy'])\n",
    "\n",
    "\n"
   ]
  },
  {
   "cell_type": "markdown",
   "metadata": {},
   "source": [
    "## Train model"
   ]
  },
  {
   "cell_type": "code",
   "execution_count": 40,
   "metadata": {},
   "outputs": [
    {
     "name": "stdout",
     "output_type": "stream",
     "text": [
      "Epoch 1/30\n",
      "92/92 [==============================] - 1s 5ms/step - loss: 1.2130 - categorical_accuracy: 0.4783 - val_loss: 0.8517 - val_categorical_accuracy: 0.5000\n",
      "Epoch 2/30\n",
      "92/92 [==============================] - 0s 3ms/step - loss: 0.7511 - categorical_accuracy: 0.6196 - val_loss: 0.8493 - val_categorical_accuracy: 0.4688\n",
      "Epoch 3/30\n",
      "92/92 [==============================] - 0s 3ms/step - loss: 0.3188 - categorical_accuracy: 0.9022 - val_loss: 0.2456 - val_categorical_accuracy: 0.9062\n",
      "Epoch 4/30\n",
      "92/92 [==============================] - 0s 3ms/step - loss: 0.1731 - categorical_accuracy: 0.9348 - val_loss: 0.2554 - val_categorical_accuracy: 0.9062\n",
      "Epoch 5/30\n",
      "92/92 [==============================] - 0s 3ms/step - loss: 0.0309 - categorical_accuracy: 0.9891 - val_loss: 0.2864 - val_categorical_accuracy: 0.9062\n",
      "Epoch 6/30\n",
      "92/92 [==============================] - 0s 3ms/step - loss: 0.0266 - categorical_accuracy: 0.9891 - val_loss: 0.4975 - val_categorical_accuracy: 0.8438\n",
      "Epoch 7/30\n",
      "92/92 [==============================] - 0s 3ms/step - loss: 0.0205 - categorical_accuracy: 0.9891 - val_loss: 0.2256 - val_categorical_accuracy: 0.9062\n",
      "Epoch 8/30\n",
      "92/92 [==============================] - 0s 3ms/step - loss: 0.0142 - categorical_accuracy: 1.0000 - val_loss: 0.2768 - val_categorical_accuracy: 0.9062\n",
      "Epoch 9/30\n",
      "92/92 [==============================] - 0s 3ms/step - loss: 0.0095 - categorical_accuracy: 1.0000 - val_loss: 0.2484 - val_categorical_accuracy: 0.9062\n",
      "Epoch 10/30\n",
      "92/92 [==============================] - 0s 3ms/step - loss: 0.0055 - categorical_accuracy: 1.0000 - val_loss: 0.2648 - val_categorical_accuracy: 0.9062\n",
      "Epoch 11/30\n",
      "92/92 [==============================] - 0s 3ms/step - loss: 0.0032 - categorical_accuracy: 1.0000 - val_loss: 0.2289 - val_categorical_accuracy: 0.9062\n",
      "Epoch 12/30\n",
      "92/92 [==============================] - 0s 3ms/step - loss: 0.0018 - categorical_accuracy: 1.0000 - val_loss: 0.2832 - val_categorical_accuracy: 0.9062\n",
      "Epoch 13/30\n",
      "92/92 [==============================] - 0s 3ms/step - loss: 0.0011 - categorical_accuracy: 1.0000 - val_loss: 0.2814 - val_categorical_accuracy: 0.9062\n",
      "Epoch 14/30\n",
      "92/92 [==============================] - 0s 3ms/step - loss: 7.0563e-04 - categorical_accuracy: 1.0000 - val_loss: 0.3001 - val_categorical_accuracy: 0.9062\n",
      "Epoch 15/30\n",
      "92/92 [==============================] - 0s 3ms/step - loss: 5.2190e-04 - categorical_accuracy: 1.0000 - val_loss: 0.3274 - val_categorical_accuracy: 0.9062\n",
      "Epoch 16/30\n",
      "92/92 [==============================] - 0s 3ms/step - loss: 3.7796e-04 - categorical_accuracy: 1.0000 - val_loss: 0.3204 - val_categorical_accuracy: 0.9062\n",
      "Epoch 17/30\n",
      "92/92 [==============================] - 0s 3ms/step - loss: 2.9214e-04 - categorical_accuracy: 1.0000 - val_loss: 0.3462 - val_categorical_accuracy: 0.9062\n",
      "Epoch 18/30\n",
      "92/92 [==============================] - 0s 3ms/step - loss: 2.3420e-04 - categorical_accuracy: 1.0000 - val_loss: 0.3425 - val_categorical_accuracy: 0.9062\n",
      "Epoch 19/30\n",
      "92/92 [==============================] - 0s 3ms/step - loss: 1.9619e-04 - categorical_accuracy: 1.0000 - val_loss: 0.3578 - val_categorical_accuracy: 0.9062\n",
      "Epoch 20/30\n",
      "92/92 [==============================] - 0s 3ms/step - loss: 1.6476e-04 - categorical_accuracy: 1.0000 - val_loss: 0.3642 - val_categorical_accuracy: 0.9062\n",
      "Epoch 21/30\n",
      "92/92 [==============================] - 0s 3ms/step - loss: 1.3667e-04 - categorical_accuracy: 1.0000 - val_loss: 0.3765 - val_categorical_accuracy: 0.9062\n",
      "Epoch 22/30\n",
      "92/92 [==============================] - 0s 3ms/step - loss: 1.1670e-04 - categorical_accuracy: 1.0000 - val_loss: 0.3945 - val_categorical_accuracy: 0.9375\n",
      "Epoch 23/30\n",
      "92/92 [==============================] - 0s 3ms/step - loss: 9.6191e-05 - categorical_accuracy: 1.0000 - val_loss: 0.4145 - val_categorical_accuracy: 0.9062\n",
      "Epoch 24/30\n",
      "92/92 [==============================] - 0s 3ms/step - loss: 7.7065e-05 - categorical_accuracy: 1.0000 - val_loss: 0.4308 - val_categorical_accuracy: 0.9062\n",
      "Epoch 25/30\n",
      "92/92 [==============================] - 0s 3ms/step - loss: 6.3976e-05 - categorical_accuracy: 1.0000 - val_loss: 0.4490 - val_categorical_accuracy: 0.9062\n",
      "Epoch 26/30\n",
      "92/92 [==============================] - 0s 3ms/step - loss: 6.7494e-05 - categorical_accuracy: 1.0000 - val_loss: 0.4525 - val_categorical_accuracy: 0.9375\n",
      "Epoch 27/30\n",
      "92/92 [==============================] - 0s 3ms/step - loss: 6.7640e-05 - categorical_accuracy: 1.0000 - val_loss: 0.4539 - val_categorical_accuracy: 0.9062\n",
      "Epoch 28/30\n",
      "92/92 [==============================] - 0s 3ms/step - loss: 4.3839e-05 - categorical_accuracy: 1.0000 - val_loss: 0.4692 - val_categorical_accuracy: 0.9375\n",
      "Epoch 29/30\n",
      "92/92 [==============================] - 0s 3ms/step - loss: 3.7713e-05 - categorical_accuracy: 1.0000 - val_loss: 0.4906 - val_categorical_accuracy: 0.9375\n",
      "Epoch 30/30\n",
      "92/92 [==============================] - 0s 3ms/step - loss: 3.0641e-05 - categorical_accuracy: 1.0000 - val_loss: 0.4988 - val_categorical_accuracy: 0.9375\n"
     ]
    },
    {
     "data": {
      "image/png": "[encoded data removed]",
      "text/plain": [
       "<Figure size 640x480 with 1 Axes>"
      ]
     },
     "metadata": {},
     "output_type": "display_data"
    }
   ],
   "source": [
    "#with tf.device('/gpu:0'):\n",
    "history = model.fit(x_train, y_train, epochs=30, batch_size=1, validation_data=(x_test, y_test)) #70, 384 batch to be increased\n",
    "plt.plot(history.history['categorical_accuracy'])\n",
    "plt.plot(history.history['val_categorical_accuracy'])\n",
    "plt.title('model accuracy')\n",
    "plt.ylabel('accuracy')\n",
    "plt.xlabel('epoch')\n",
    "plt.legend(['train', 'val'], loc='upper left')\n",
    "plt.show()"
   ]
  },
  {
   "cell_type": "markdown",
   "metadata": {},
   "source": [
    "## Evaluate model on test dataset"
   ]
  },
  {
   "cell_type": "code",
   "execution_count": 41,
   "metadata": {},
   "outputs": [
    {
     "name": "stdout",
     "output_type": "stream",
     "text": [
      "1/1 - 0s - loss: 0.4988 - categorical_accuracy: 0.9375 - 161ms/epoch - 161ms/step\n",
      "1/1 [==============================] - 0s 100ms/step\n",
      "tf.Tensor(\n",
      "[[8 0 0 0]\n",
      " [1 7 0 0]\n",
      " [0 0 8 0]\n",
      " [1 0 0 7]], shape=(4, 4), dtype=int32)\n"
     ]
    }
   ],
   "source": [
    "model.evaluate(x_test, y_test, verbose=2)\n",
    "pred_test = model.predict(x_test)\n",
    "print(tf.math.confusion_matrix(y_test.argmax(axis=1), pred_test.argmax(axis=1)))"
   ]
  },
  {
   "cell_type": "markdown",
   "metadata": {
    "tags": []
   },
   "source": [
    "## Evaluate model on small dataset"
   ]
  },
  {
   "cell_type": "code",
   "execution_count": 42,
   "metadata": {},
   "outputs": [
    {
     "name": "stdout",
     "output_type": "stream",
     "text": [
      "1/1 - 0s - loss: 0.7424 - categorical_accuracy: 0.9000 - 24ms/epoch - 24ms/step\n",
      "1/1 [==============================] - 0s 103ms/step\n",
      "tf.Tensor(\n",
      "[[2 0 0 0]\n",
      " [0 2 0 0]\n",
      " [0 0 0 0]\n",
      " [1 0 0 5]], shape=(4, 4), dtype=int32)\n"
     ]
    }
   ],
   "source": [
    "model.evaluate(x_test_small, y_test_small, verbose=2)\n",
    "pred_test_250 = model.predict(x_test_small)\n",
    "print(tf.math.confusion_matrix(y_test_small.argmax(axis=1), pred_test_250.argmax(axis=1)))"
   ]
  },
  {
   "cell_type": "markdown",
   "metadata": {},
   "source": [
    "## Save trained model"
   ]
  },
  {
   "cell_type": "code",
   "execution_count": 43,
   "metadata": {},
   "outputs": [],
   "source": [
    "model.save('lab_gsc.h5')"
   ]
  },
  {
   "cell_type": "markdown",
   "metadata": {},
   "source": [
    "## Remove SoftMax layer"
   ]
  },
  {
   "cell_type": "code",
   "execution_count": 44,
   "metadata": {},
   "outputs": [],
   "source": [
    "model = tf.keras.Model(model.input, model.layers[-2].output, name=model.name)"
   ]
  },
  {
   "cell_type": "markdown",
   "metadata": {},
   "source": [
    "## Install MicroAI for C inference code generation (kerascnn2c module)"
   ]
  },
  {
   "cell_type": "code",
   "execution_count": 45,
   "metadata": {},
   "outputs": [
    {
     "name": "stdout",
     "output_type": "stream",
     "text": [
      "Collecting https://bitbucket.org/edge-team-leat/microai_public/get/6adfbcb347d3.zip#subdirectory=third_party/kerascnn2c_fixed\n",
      "  Downloading https://bitbucket.org/edge-team-leat/microai_public/get/6adfbcb347d3.zip (1.9 MB)\n",
      "     ---------------------------------------- 1.9/1.9 MB 3.2 MB/s eta 0:00:00\n",
      "  Preparing metadata (setup.py): started\n",
      "  Preparing metadata (setup.py): finished with status 'done'\n",
      "Requirement already satisfied: numpy in c:\\users\\zeggi\\appdata\\local\\programs\\python\\python39\\lib\\site-packages (from kerascnn2c==1.0.0) (1.21.0)\n",
      "Requirement already satisfied: jinja2 in c:\\users\\zeggi\\appdata\\local\\programs\\python\\python39\\lib\\site-packages (from kerascnn2c==1.0.0) (3.1.2)\n",
      "Requirement already satisfied: MarkupSafe>=2.0 in c:\\users\\zeggi\\appdata\\local\\programs\\python\\python39\\lib\\site-packages (from jinja2->kerascnn2c==1.0.0) (2.1.1)\n",
      "Note: you may need to restart the kernel to use updated packages.\n"
     ]
    },
    {
     "name": "stderr",
     "output_type": "stream",
     "text": [
      "\n",
      "[notice] A new release of pip available: 22.3.1 -> 23.1\n",
      "[notice] To update, run: python.exe -m pip install --upgrade pip\n"
     ]
    }
   ],
   "source": [
    "%pip install https://bitbucket.org/edge-team-leat/microai_public/get/6adfbcb347d3.zip#subdirectory=third_party/kerascnn2c_fixed\n",
    "import kerascnn2c"
   ]
  },
  {
   "cell_type": "markdown",
   "metadata": {
    "tags": []
   },
   "source": [
    "## Generate C code for the trained model with 16-bit fixed-point representation"
   ]
  },
  {
   "cell_type": "code",
   "execution_count": 46,
   "metadata": {},
   "outputs": [
    {
     "name": "stdout",
     "output_type": "stream",
     "text": [
      "———————————————————————————————————————————————————————————————————————————————————————————————————————\n",
      "Inputs                           | Layer                            | Outputs                         \n",
      "———————————————————————————————————————————————————————————————————————————————————————————————————————\n",
      "                                 | input_9                          | max_pooling1d_40                \n",
      "-------------------------------------------------------------------------------------------------------\n",
      "input_9                          | max_pooling1d_40                 | conv1d_32                       \n",
      "-------------------------------------------------------------------------------------------------------\n",
      "max_pooling1d_40                 | conv1d_32                        | max_pooling1d_41                \n",
      "-------------------------------------------------------------------------------------------------------\n",
      "conv1d_32                        | max_pooling1d_41                 | conv1d_33                       \n",
      "-------------------------------------------------------------------------------------------------------\n",
      "max_pooling1d_41                 | conv1d_33                        | max_pooling1d_42                \n",
      "-------------------------------------------------------------------------------------------------------\n",
      "conv1d_33                        | max_pooling1d_42                 | conv1d_34                       \n",
      "-------------------------------------------------------------------------------------------------------\n",
      "max_pooling1d_42                 | conv1d_34                        | max_pooling1d_43                \n",
      "-------------------------------------------------------------------------------------------------------\n",
      "conv1d_34                        | max_pooling1d_43                 | conv1d_35                       \n",
      "-------------------------------------------------------------------------------------------------------\n",
      "max_pooling1d_43                 | conv1d_35                        | max_pooling1d_44                \n",
      "-------------------------------------------------------------------------------------------------------\n",
      "conv1d_35                        | max_pooling1d_44                 | average_pooling1d_8             \n",
      "-------------------------------------------------------------------------------------------------------\n",
      "max_pooling1d_44                 | average_pooling1d_8              | flatten_8                       \n",
      "-------------------------------------------------------------------------------------------------------\n",
      "average_pooling1d_8              | flatten_8                        | dense_16                        \n",
      "-------------------------------------------------------------------------------------------------------\n",
      "flatten_8                        | dense_16                         | dense_17                        \n",
      "-------------------------------------------------------------------------------------------------------\n",
      "dense_16                         | dense_17                         |                                 \n",
      "-------------------------------------------------------------------------------------------------------\n",
      "\n",
      "After optimization:\n",
      "———————————————————————————————————————————————————————————————————————————————————————————————————————\n",
      "Inputs                           | Layer                            | Outputs                         \n",
      "———————————————————————————————————————————————————————————————————————————————————————————————————————\n",
      "                                 | input_9                          | max_pooling1d_40                \n",
      "-------------------------------------------------------------------------------------------------------\n",
      "input_9                          | max_pooling1d_40                 | conv1d_32                       \n",
      "-------------------------------------------------------------------------------------------------------\n",
      "max_pooling1d_40                 | conv1d_32                        | max_pooling1d_41                \n",
      "-------------------------------------------------------------------------------------------------------\n",
      "conv1d_32                        | max_pooling1d_41                 | conv1d_33                       \n",
      "-------------------------------------------------------------------------------------------------------\n",
      "max_pooling1d_41                 | conv1d_33                        | max_pooling1d_42                \n",
      "-------------------------------------------------------------------------------------------------------\n",
      "conv1d_33                        | max_pooling1d_42                 | conv1d_34                       \n",
      "-------------------------------------------------------------------------------------------------------\n",
      "max_pooling1d_42                 | conv1d_34                        | max_pooling1d_43                \n",
      "-------------------------------------------------------------------------------------------------------\n",
      "conv1d_34                        | max_pooling1d_43                 | conv1d_35                       \n",
      "-------------------------------------------------------------------------------------------------------\n",
      "max_pooling1d_43                 | conv1d_35                        | max_pooling1d_44                \n",
      "-------------------------------------------------------------------------------------------------------\n",
      "conv1d_35                        | max_pooling1d_44                 | average_pooling1d_8             \n",
      "-------------------------------------------------------------------------------------------------------\n",
      "max_pooling1d_44                 | average_pooling1d_8              | flatten_8                       \n",
      "-------------------------------------------------------------------------------------------------------\n",
      "average_pooling1d_8              | flatten_8                        | dense_16                        \n",
      "-------------------------------------------------------------------------------------------------------\n",
      "flatten_8                        | dense_16                         | dense_17                        \n",
      "-------------------------------------------------------------------------------------------------------\n",
      "dense_16                         | dense_17                         |                                 \n",
      "-------------------------------------------------------------------------------------------------------\n",
      "\n"
     ]
    }
   ],
   "source": [
    "res = kerascnn2c.Converter(output_path=Path('gsc_output_fixed'),\n",
    "                           fixed_point=FIXED_POINT, # Number of bits for the fractional part, Q7.9 format\n",
    "                           number_type='int16_t', # Data type for weights/activations (16 bits quantization)\n",
    "                           long_number_type='int32_t', # Data type for intermediate results\n",
    "                           number_min=-(2**15), # Minimum value for 16-bit signed integers\n",
    "                           number_max=(2**15)-1 # Maximum value for 16-bit signed integers\n",
    "                          ).convert_model(model)\n",
    "with open('ukulele_model_fixed2.h', 'w') as f:\n",
    "    f.write(res)"
   ]
  },
  {
   "cell_type": "markdown",
   "metadata": {
    "tags": []
   },
   "source": [
    "## Compile the 16-bit fixed-point C code for x86 and evaluate on small dataset"
   ]
  },
  {
   "cell_type": "code",
   "execution_count": 47,
   "metadata": {},
   "outputs": [
    {
     "name": "stderr",
     "output_type": "stream",
     "text": [
      "gsc_output_fixed/model.c: In function 'void cnn(const number_t (*)[16000], number_t*)':\n",
      "gsc_output_fixed/model.c:162:18: warning: left operand of comma operator has no effect [-Wunused-value]\n",
      "  162 |     activations2.average_pooling1d_8_output,\n",
      "      |     ~~~~~~~~~~~~~^~~~~~~~~~~~~~~~~~~~~~~~~~\n",
      "Testing accuracy: 0.9\n"
     ]
    }
   ],
   "source": [
    "!g++ -Wall -Wextra -pedantic -Ofast -o gsc_fixed -Igsc_output_fixed/ gsc_output_fixed/model.c main.cpp \n",
    "!gsc_fixed x_test_small.csv y_test_small.csv\n",
    "\n",
    "#test on the entire dataset"
   ]
  }
 ],
 "metadata": {
  "kernelspec": {
   "display_name": "Python 3",
   "language": "python",
   "name": "python3"
  },
  "language_info": {
   "codemirror_mode": {
    "name": "ipython",
    "version": 3
   },
   "file_extension": ".py",
   "mimetype": "text/x-python",
   "name": "python",
   "nbconvert_exporter": "python",
   "pygments_lexer": "ipython3",
   "version": "3.9.0"
  }
 },
 "nbformat": 4,
 "nbformat_minor": 4
}
