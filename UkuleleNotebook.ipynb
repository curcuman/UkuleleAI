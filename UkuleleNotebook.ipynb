{
 "cells": [
  {
   "cell_type": "markdown",
   "metadata": {},
   "source": [
    "# Lab 5: Google Speech Commands"
   ]
  },
  {
   "cell_type": "markdown",
   "metadata": {
    "tags": []
   },
   "source": [
    "## Imports"
   ]
  },
  {
   "cell_type": "code",
   "execution_count": 1,
   "metadata": {},
   "outputs": [],
   "source": [
    "import copy\n",
    "import wave\n",
    "from matplotlib import pyplot as plt\n",
    "from pathlib import Path\n",
    "import numpy as np\n",
    "import tensorflow as tf\n",
    "from keras.models import Sequential\n",
    "from keras.layers import Input, Conv1D, AvgPool1D, MaxPool1D, ZeroPadding1D, BatchNormalization, Flatten, Dense, Activation, Dropout\n",
    "from keras.utils.data_utils import get_file\n",
    "from keras.utils.np_utils import to_categorical"
   ]
  },
  {
   "cell_type": "markdown",
   "metadata": {},
   "source": [
    "## Download, cache and extract Google Speech Commands"
   ]
  },
  {
   "cell_type": "code",
   "execution_count": 2,
   "metadata": {},
   "outputs": [],
   "source": [
    "dataset_dir = Path('datasets')\n",
    "if not (dataset_dir/'testing_list.txt').exists(): # Assume dataset already downloaded/extracted if testing list is present\n",
    "    get_file(None, \"http://download.tensorflow.org/data/speech_commands_v0.02.tar.gz\",\n",
    "                    extract=True,\n",
    "                    file_hash=\"6b74f3901214cb2c2934e98196829835\",\n",
    "                    cache_dir='.',\n",
    "                    cache_subdir=dataset_dir)"
   ]
  },
  {
   "cell_type": "markdown",
   "metadata": {},
   "source": [
    "## Load raw spoken digits data from Google Speech Commands"
   ]
  },
  {
   "cell_type": "code",
   "execution_count": 4,
   "metadata": {},
   "outputs": [
    {
     "name": "stdout",
     "output_type": "stream",
     "text": [
      "['A/A_0', 'A/A_1', 'A/A_2', 'A/A_3', 'A/A_4', 'A/A_5.wav', 'A/A_6.wav', 'A/A_7.wav', 'B/B_0.wav', 'B/B_1.wav', 'B/B_2.wav', 'B/B_3.wav', 'B/B_4.wav', 'B/B_5.wav', 'B/B_6.wav', 'B/B_7.wav', 'C/C_0.wav', 'C/C_1.wav', 'C/C_2.wav', 'C/C_3.wav', 'C/C_4.wav', 'C/C_5.wav', 'C/C_6.wav', 'C/C_7.wav', 'D/D_0.wav', 'D/D_1.wav', 'D/D_2.wav', 'D/D_3.wav', 'D/D_4.wav', 'D/D_5.wav', 'D/D_6.wav', 'D/D_7.wav']\n"
     ]
    }
   ],
   "source": [
    "# Classes to handle, ordered by label\n",
    "CLASSES = ['A', 'B', 'C', 'D']\n",
    "\n",
    "with (dataset_dir/'testing_list.txt').open() as f:\n",
    "    testing_list = f.read().splitlines()\n",
    "\n",
    "print(testing_list)\n",
    "x_train = []\n",
    "y_train = []\n",
    "x_test = []\n",
    "y_test = []\n",
    "\n",
    "for recording in dataset_dir.glob(f'**/*.wav'):\n",
    "    if not recording.parent.name in CLASSES: # Ignore unused classes\n",
    "        continue\n",
    "    label = CLASSES.index(recording.parent.name) # Assign class number\n",
    "    \n",
    "    with wave.open(str(recording)) as f: # Read wave file\n",
    "        data = np.frombuffer(f.readframes(f.getnframes()), dtype=np.int16).copy() # As 16-bit signed integer\n",
    "        \n",
    "    data = data.astype(np.float32) # Convert to 32-bit floating-point\n",
    "    data.resize((16000, 1)) # Resize to 1s (16kHz) with zero-padding, 1 channel\n",
    "    #print(str(recording.relative_to(dataset_dir)))\n",
    "    if str(recording.relative_to(dataset_dir)).replace(\"\\\\\",\"/\") in testing_list: # Assign to test set if file in test list\n",
    "        \n",
    "        x_test.append(data)\n",
    "        y_test.append(label)\n",
    "    else:\n",
    "        x_train.append(data)\n",
    "        y_train.append(label)\n",
    "\n",
    "x_train = np.array(x_train)\n",
    "y_train = to_categorical(np.array(y_train))\n",
    "x_test = np.array(x_test)\n",
    "y_test = to_categorical(np.array(y_test))"
   ]
  },
  {
   "cell_type": "markdown",
   "metadata": {},
   "source": [
    "## Prepare for inference with fixed-point Q7.9 samples by scaling input data accordingly"
   ]
  },
  {
   "cell_type": "code",
   "execution_count": 5,
   "metadata": {},
   "outputs": [],
   "source": [
    "FIXED_POINT = 9\n",
    "x_train /= 2**FIXED_POINT\n",
    "x_test  /= 2**FIXED_POINT"
   ]
  },
  {
   "cell_type": "markdown",
   "metadata": {},
   "source": [
    "## Export small dataset (250 random vectors)"
   ]
  },
  {
   "cell_type": "code",
   "execution_count": 6,
   "metadata": {},
   "outputs": [],
   "source": [
    "perms = np.random.permutation(len(y_test))[0:10]\n",
    "x_test_250 = x_test[perms]\n",
    "y_test_250 = y_test[perms]\n",
    "np.savetxt('x_test_gsc_250.csv', x_test_250.reshape((x_test_250.shape[0], -1)), delimiter=',', fmt='%s')\n",
    "np.savetxt('y_test_gsc_250.csv', y_test_250, delimiter=',', fmt='%s')"
   ]
  },
  {
   "cell_type": "markdown",
   "metadata": {
    "tags": []
   },
   "source": [
    "## Build model M5"
   ]
  },
  {
   "cell_type": "code",
   "execution_count": 9,
   "metadata": {},
   "outputs": [
    {
     "name": "stdout",
     "output_type": "stream",
     "text": [
      "Model: \"sequential_1\"\n",
      "_________________________________________________________________\n",
      " Layer (type)                Output Shape              Param #   \n",
      "=================================================================\n",
      " max_pooling1d_5 (MaxPooling  (None, 8000, 1)          0         \n",
      " 1D)                                                             \n",
      "                                                                 \n",
      " conv1d_4 (Conv1D)           (None, 800, 16)           176       \n",
      "                                                                 \n",
      " max_pooling1d_6 (MaxPooling  (None, 400, 16)          0         \n",
      " 1D)                                                             \n",
      "                                                                 \n",
      " conv1d_5 (Conv1D)           (None, 199, 32)           1568      \n",
      "                                                                 \n",
      " max_pooling1d_7 (MaxPooling  (None, 99, 32)           0         \n",
      " 1D)                                                             \n",
      "                                                                 \n",
      " conv1d_6 (Conv1D)           (None, 49, 64)            6208      \n",
      "                                                                 \n",
      " max_pooling1d_8 (MaxPooling  (None, 24, 64)           0         \n",
      " 1D)                                                             \n",
      "                                                                 \n",
      " conv1d_7 (Conv1D)           (None, 22, 128)           24704     \n",
      "                                                                 \n",
      " max_pooling1d_9 (MaxPooling  (None, 11, 128)          0         \n",
      " 1D)                                                             \n",
      "                                                                 \n",
      " average_pooling1d_1 (Averag  (None, 1, 128)           0         \n",
      " ePooling1D)                                                     \n",
      "                                                                 \n",
      " flatten_1 (Flatten)         (None, 128)               0         \n",
      "                                                                 \n",
      " dense_2 (Dense)             (None, 40)                5160      \n",
      "                                                                 \n",
      " dense_3 (Dense)             (None, 4)                 164       \n",
      "                                                                 \n",
      " activation_1 (Activation)   (None, 4)                 0         \n",
      "                                                                 \n",
      "=================================================================\n",
      "Total params: 37,980\n",
      "Trainable params: 37,980\n",
      "Non-trainable params: 0\n",
      "_________________________________________________________________\n"
     ]
    }
   ],
   "source": [
    "\n",
    "model = Sequential()\n",
    "model.add(Input(shape=(16000, 1)))\n",
    "# under 120kB of data flow, (ram), 1MB flash\n",
    "model.add(MaxPool1D(pool_size=2)) \n",
    "model.add(Conv1D(filters=16, kernel_size=10, strides = 10, activation='relu'))\n",
    "model.add(MaxPool1D(pool_size=2)) \n",
    "model.add(Conv1D(filters=32, kernel_size=3, strides = 2, activation='relu'))\n",
    "model.add(MaxPool1D(pool_size=2)) \n",
    "model.add(Conv1D(filters=64, kernel_size=3, strides = 2, activation='relu'))\n",
    "model.add(MaxPool1D(pool_size=2)) \n",
    "model.add(Conv1D(filters=128, kernel_size=3, strides = 1, activation='relu'))\n",
    "model.add(MaxPool1D(pool_size=2)) \n",
    "\n",
    "#model.summary()\n",
    "model.add(AvgPool1D(pool_size=11)) #squeeze the temporal dimensions on 1 to only have the filters\n",
    "model.add(Flatten())\n",
    "model.add(Dense(units=40))\n",
    "model.add(Dense(units=4))\n",
    "model.add(Activation('softmax')) # SoftMax activation needs to be separate from Dense to remove it later on\n",
    "\n",
    "# EXPLORE Learning Rate\n",
    "opt = tf.keras.optimizers.Adam(learning_rate=10e-4)\n",
    "model.summary()\n",
    "model.compile(optimizer=opt, loss='categorical_crossentropy', metrics=['categorical_accuracy'])\n",
    "\n",
    "\n"
   ]
  },
  {
   "cell_type": "markdown",
   "metadata": {},
   "source": [
    "## Train model"
   ]
  },
  {
   "cell_type": "code",
   "execution_count": 10,
   "metadata": {},
   "outputs": [
    {
     "name": "stdout",
     "output_type": "stream",
     "text": [
      "Epoch 1/40\n",
      "1/1 [==============================] - 1s 1s/step - loss: 1.7516 - categorical_accuracy: 0.2371 - val_loss: 1.3754 - val_categorical_accuracy: 0.2593\n",
      "Epoch 2/40\n",
      "1/1 [==============================] - 0s 114ms/step - loss: 1.3727 - categorical_accuracy: 0.2474 - val_loss: 1.7189 - val_categorical_accuracy: 0.1111\n",
      "Epoch 3/40\n",
      "1/1 [==============================] - 0s 81ms/step - loss: 1.5415 - categorical_accuracy: 0.3093 - val_loss: 1.5973 - val_categorical_accuracy: 0.2963\n",
      "Epoch 4/40\n",
      "1/1 [==============================] - 0s 63ms/step - loss: 1.4701 - categorical_accuracy: 0.2887 - val_loss: 1.4399 - val_categorical_accuracy: 0.2593\n",
      "Epoch 5/40\n",
      "1/1 [==============================] - 0s 73ms/step - loss: 1.3768 - categorical_accuracy: 0.2577 - val_loss: 1.2996 - val_categorical_accuracy: 0.2593\n",
      "Epoch 6/40\n",
      "1/1 [==============================] - 0s 73ms/step - loss: 1.2782 - categorical_accuracy: 0.2680 - val_loss: 1.2148 - val_categorical_accuracy: 0.4074\n",
      "Epoch 7/40\n",
      "1/1 [==============================] - 0s 65ms/step - loss: 1.2110 - categorical_accuracy: 0.5052 - val_loss: 1.1919 - val_categorical_accuracy: 0.5185\n",
      "Epoch 8/40\n",
      "1/1 [==============================] - 0s 63ms/step - loss: 1.1872 - categorical_accuracy: 0.5876 - val_loss: 1.2021 - val_categorical_accuracy: 0.3333\n",
      "Epoch 9/40\n",
      "1/1 [==============================] - 0s 64ms/step - loss: 1.1839 - categorical_accuracy: 0.3918 - val_loss: 1.1997 - val_categorical_accuracy: 0.3704\n",
      "Epoch 10/40\n",
      "1/1 [==============================] - 0s 67ms/step - loss: 1.1608 - categorical_accuracy: 0.4330 - val_loss: 1.1693 - val_categorical_accuracy: 0.5556\n",
      "Epoch 11/40\n",
      "1/1 [==============================] - 0s 67ms/step - loss: 1.1085 - categorical_accuracy: 0.4948 - val_loss: 1.1330 - val_categorical_accuracy: 0.5926\n",
      "Epoch 12/40\n",
      "1/1 [==============================] - 0s 66ms/step - loss: 1.0507 - categorical_accuracy: 0.6082 - val_loss: 1.1063 - val_categorical_accuracy: 0.5926\n",
      "Epoch 13/40\n",
      "1/1 [==============================] - 0s 74ms/step - loss: 1.0042 - categorical_accuracy: 0.7423 - val_loss: 1.0811 - val_categorical_accuracy: 0.4444\n",
      "Epoch 14/40\n",
      "1/1 [==============================] - 0s 70ms/step - loss: 0.9653 - categorical_accuracy: 0.6186 - val_loss: 1.0437 - val_categorical_accuracy: 0.4074\n",
      "Epoch 15/40\n",
      "1/1 [==============================] - 0s 84ms/step - loss: 0.9292 - categorical_accuracy: 0.5773 - val_loss: 0.9950 - val_categorical_accuracy: 0.5556\n",
      "Epoch 16/40\n",
      "1/1 [==============================] - 0s 72ms/step - loss: 0.8968 - categorical_accuracy: 0.7113 - val_loss: 0.9437 - val_categorical_accuracy: 0.6667\n",
      "Epoch 17/40\n",
      "1/1 [==============================] - 0s 64ms/step - loss: 0.8683 - categorical_accuracy: 0.7526 - val_loss: 0.8923 - val_categorical_accuracy: 0.7037\n",
      "Epoch 18/40\n",
      "1/1 [==============================] - 0s 64ms/step - loss: 0.8349 - categorical_accuracy: 0.7938 - val_loss: 0.8510 - val_categorical_accuracy: 0.7407\n",
      "Epoch 19/40\n",
      "1/1 [==============================] - 0s 82ms/step - loss: 0.7935 - categorical_accuracy: 0.9278 - val_loss: 0.8344 - val_categorical_accuracy: 0.6296\n",
      "Epoch 20/40\n",
      "1/1 [==============================] - 0s 67ms/step - loss: 0.7538 - categorical_accuracy: 0.8351 - val_loss: 0.8459 - val_categorical_accuracy: 0.5926\n",
      "Epoch 21/40\n",
      "1/1 [==============================] - 0s 66ms/step - loss: 0.7245 - categorical_accuracy: 0.7835 - val_loss: 0.8634 - val_categorical_accuracy: 0.5926\n",
      "Epoch 22/40\n",
      "1/1 [==============================] - 0s 63ms/step - loss: 0.7042 - categorical_accuracy: 0.7526 - val_loss: 0.8473 - val_categorical_accuracy: 0.5926\n",
      "Epoch 23/40\n",
      "1/1 [==============================] - 0s 73ms/step - loss: 0.6752 - categorical_accuracy: 0.7526 - val_loss: 0.7904 - val_categorical_accuracy: 0.5926\n",
      "Epoch 24/40\n",
      "1/1 [==============================] - 0s 65ms/step - loss: 0.6341 - categorical_accuracy: 0.8247 - val_loss: 0.7304 - val_categorical_accuracy: 0.8148\n",
      "Epoch 25/40\n",
      "1/1 [==============================] - 0s 73ms/step - loss: 0.5997 - categorical_accuracy: 0.9381 - val_loss: 0.6977 - val_categorical_accuracy: 0.8519\n",
      "Epoch 26/40\n",
      "1/1 [==============================] - 0s 67ms/step - loss: 0.5775 - categorical_accuracy: 0.9794 - val_loss: 0.6855 - val_categorical_accuracy: 0.7778\n",
      "Epoch 27/40\n",
      "1/1 [==============================] - 0s 68ms/step - loss: 0.5486 - categorical_accuracy: 0.9588 - val_loss: 0.6805 - val_categorical_accuracy: 0.8148\n",
      "Epoch 28/40\n",
      "1/1 [==============================] - 0s 65ms/step - loss: 0.5091 - categorical_accuracy: 0.9794 - val_loss: 0.6793 - val_categorical_accuracy: 0.7778\n",
      "Epoch 29/40\n",
      "1/1 [==============================] - 0s 64ms/step - loss: 0.4761 - categorical_accuracy: 0.9278 - val_loss: 0.6643 - val_categorical_accuracy: 0.7407\n",
      "Epoch 30/40\n",
      "1/1 [==============================] - 0s 68ms/step - loss: 0.4496 - categorical_accuracy: 0.8969 - val_loss: 0.6298 - val_categorical_accuracy: 0.7778\n",
      "Epoch 31/40\n",
      "1/1 [==============================] - 0s 72ms/step - loss: 0.4161 - categorical_accuracy: 0.9381 - val_loss: 0.5959 - val_categorical_accuracy: 0.8519\n",
      "Epoch 32/40\n",
      "1/1 [==============================] - 0s 64ms/step - loss: 0.3760 - categorical_accuracy: 0.9794 - val_loss: 0.5908 - val_categorical_accuracy: 0.8519\n",
      "Epoch 33/40\n",
      "1/1 [==============================] - 0s 65ms/step - loss: 0.3505 - categorical_accuracy: 0.9897 - val_loss: 0.5683 - val_categorical_accuracy: 0.8519\n",
      "Epoch 34/40\n",
      "1/1 [==============================] - 0s 73ms/step - loss: 0.3174 - categorical_accuracy: 0.9897 - val_loss: 0.5379 - val_categorical_accuracy: 0.8889\n",
      "Epoch 35/40\n",
      "1/1 [==============================] - 0s 80ms/step - loss: 0.2814 - categorical_accuracy: 0.9897 - val_loss: 0.5362 - val_categorical_accuracy: 0.8148\n",
      "Epoch 36/40\n",
      "1/1 [==============================] - 0s 75ms/step - loss: 0.2582 - categorical_accuracy: 0.9897 - val_loss: 0.5235 - val_categorical_accuracy: 0.8889\n",
      "Epoch 37/40\n",
      "1/1 [==============================] - 0s 66ms/step - loss: 0.2280 - categorical_accuracy: 0.9897 - val_loss: 0.4989 - val_categorical_accuracy: 0.8519\n",
      "Epoch 38/40\n",
      "1/1 [==============================] - 0s 73ms/step - loss: 0.2011 - categorical_accuracy: 0.9897 - val_loss: 0.4832 - val_categorical_accuracy: 0.8519\n",
      "Epoch 39/40\n",
      "1/1 [==============================] - 0s 85ms/step - loss: 0.1820 - categorical_accuracy: 0.9897 - val_loss: 0.4701 - val_categorical_accuracy: 0.8889\n",
      "Epoch 40/40\n",
      "1/1 [==============================] - 0s 60ms/step - loss: 0.1552 - categorical_accuracy: 0.9897 - val_loss: 0.4750 - val_categorical_accuracy: 0.8889\n"
     ]
    },
    {
     "data": {
      "image/png": "[encoded data removed]",
      "text/plain": [
       "<Figure size 640x480 with 1 Axes>"
      ]
     },
     "metadata": {},
     "output_type": "display_data"
    }
   ],
   "source": [
    "#with tf.device('/gpu:0'):\n",
    "history = model.fit(x_train, y_train, epochs=40, batch_size=384, validation_data=(x_test, y_test)) #70, 384 batch to be increased\n",
    "plt.plot(history.history['categorical_accuracy'])\n",
    "plt.plot(history.history['val_categorical_accuracy'])\n",
    "plt.title('model accuracy')\n",
    "plt.ylabel('accuracy')\n",
    "plt.xlabel('epoch')\n",
    "plt.legend(['train', 'val'], loc='upper left')\n",
    "plt.show()"
   ]
  },
  {
   "cell_type": "markdown",
   "metadata": {},
   "source": [
    "## Evaluate model on test dataset"
   ]
  },
  {
   "cell_type": "code",
   "execution_count": 11,
   "metadata": {},
   "outputs": [
    {
     "name": "stdout",
     "output_type": "stream",
     "text": [
      "1/1 - 0s - loss: 0.4750 - categorical_accuracy: 0.8889 - 25ms/epoch - 25ms/step\n",
      "1/1 [==============================] - 0s 132ms/step\n",
      "tf.Tensor(\n",
      "[[3 0 0 0]\n",
      " [1 7 0 0]\n",
      " [1 0 7 0]\n",
      " [1 0 0 7]], shape=(4, 4), dtype=int32)\n"
     ]
    }
   ],
   "source": [
    "model.evaluate(x_test, y_test, verbose=2)\n",
    "pred_test = model.predict(x_test)\n",
    "print(tf.math.confusion_matrix(y_test.argmax(axis=1), pred_test.argmax(axis=1)))"
   ]
  },
  {
   "cell_type": "markdown",
   "metadata": {
    "tags": []
   },
   "source": [
    "## Evaluate model on small dataset"
   ]
  },
  {
   "cell_type": "code",
   "execution_count": 12,
   "metadata": {},
   "outputs": [
    {
     "name": "stdout",
     "output_type": "stream",
     "text": [
      "1/1 - 0s - loss: 0.6578 - categorical_accuracy: 0.8000 - 30ms/epoch - 30ms/step\n",
      "1/1 [==============================] - 0s 24ms/step\n",
      "tf.Tensor(\n",
      "[[0 0 0 0]\n",
      " [0 3 0 0]\n",
      " [1 0 3 0]\n",
      " [1 0 0 2]], shape=(4, 4), dtype=int32)\n"
     ]
    }
   ],
   "source": [
    "model.evaluate(x_test_250, y_test_250, verbose=2)\n",
    "pred_test_250 = model.predict(x_test_250)\n",
    "print(tf.math.confusion_matrix(y_test_250.argmax(axis=1), pred_test_250.argmax(axis=1)))"
   ]
  },
  {
   "cell_type": "markdown",
   "metadata": {},
   "source": [
    "## Save trained model"
   ]
  },
  {
   "cell_type": "code",
   "execution_count": 13,
   "metadata": {},
   "outputs": [],
   "source": [
    "model.save('lab_gsc.h5')"
   ]
  },
  {
   "cell_type": "markdown",
   "metadata": {},
   "source": [
    "## Remove SoftMax layer"
   ]
  },
  {
   "cell_type": "code",
   "execution_count": 14,
   "metadata": {},
   "outputs": [],
   "source": [
    "model = tf.keras.Model(model.input, model.layers[-2].output, name=model.name)"
   ]
  },
  {
   "cell_type": "markdown",
   "metadata": {},
   "source": [
    "## Install MicroAI for C inference code generation (kerascnn2c module)"
   ]
  },
  {
   "cell_type": "code",
   "execution_count": 15,
   "metadata": {},
   "outputs": [
    {
     "name": "stdout",
     "output_type": "stream",
     "text": [
      "Collecting https://bitbucket.org/edge-team-leat/microai_public/get/6adfbcb347d3.zip#subdirectory=third_party/kerascnn2c_fixed\n",
      "  Downloading https://bitbucket.org/edge-team-leat/microai_public/get/6adfbcb347d3.zip (1.9 MB)\n",
      "     ---------------------------------------- 1.9/1.9 MB 1.5 MB/s eta 0:00:00\n",
      "  Preparing metadata (setup.py): started\n",
      "  Preparing metadata (setup.py): finished with status 'done'\n",
      "Requirement already satisfied: numpy in c:\\users\\zeggi\\appdata\\local\\programs\\python\\python39\\lib\\site-packages (from kerascnn2c==1.0.0) (1.21.0)\n",
      "Requirement already satisfied: jinja2 in c:\\users\\zeggi\\appdata\\local\\programs\\python\\python39\\lib\\site-packages (from kerascnn2c==1.0.0) (3.1.2)\n",
      "Requirement already satisfied: MarkupSafe>=2.0 in c:\\users\\zeggi\\appdata\\local\\programs\\python\\python39\\lib\\site-packages (from jinja2->kerascnn2c==1.0.0) (2.1.1)\n",
      "Note: you may need to restart the kernel to use updated packages.\n"
     ]
    },
    {
     "name": "stderr",
     "output_type": "stream",
     "text": [
      "\n",
      "[notice] A new release of pip available: 22.3.1 -> 23.1\n",
      "[notice] To update, run: python.exe -m pip install --upgrade pip\n"
     ]
    }
   ],
   "source": [
    "%pip install https://bitbucket.org/edge-team-leat/microai_public/get/6adfbcb347d3.zip#subdirectory=third_party/kerascnn2c_fixed\n",
    "import kerascnn2c"
   ]
  },
  {
   "cell_type": "markdown",
   "metadata": {
    "tags": []
   },
   "source": [
    "## Generate C code for the trained model with 16-bit fixed-point representation"
   ]
  },
  {
   "cell_type": "code",
   "execution_count": 16,
   "metadata": {},
   "outputs": [
    {
     "name": "stdout",
     "output_type": "stream",
     "text": [
      "———————————————————————————————————————————————————————————————————————————————————————————————————————\n",
      "Inputs                           | Layer                            | Outputs                         \n",
      "———————————————————————————————————————————————————————————————————————————————————————————————————————\n",
      "                                 | input_2                          | max_pooling1d_5                 \n",
      "-------------------------------------------------------------------------------------------------------\n",
      "input_2                          | max_pooling1d_5                  | conv1d_4                        \n",
      "-------------------------------------------------------------------------------------------------------\n",
      "max_pooling1d_5                  | conv1d_4                         | max_pooling1d_6                 \n",
      "-------------------------------------------------------------------------------------------------------\n",
      "conv1d_4                         | max_pooling1d_6                  | conv1d_5                        \n",
      "-------------------------------------------------------------------------------------------------------\n",
      "max_pooling1d_6                  | conv1d_5                         | max_pooling1d_7                 \n",
      "-------------------------------------------------------------------------------------------------------\n",
      "conv1d_5                         | max_pooling1d_7                  | conv1d_6                        \n",
      "-------------------------------------------------------------------------------------------------------\n",
      "max_pooling1d_7                  | conv1d_6                         | max_pooling1d_8                 \n",
      "-------------------------------------------------------------------------------------------------------\n",
      "conv1d_6                         | max_pooling1d_8                  | conv1d_7                        \n",
      "-------------------------------------------------------------------------------------------------------\n",
      "max_pooling1d_8                  | conv1d_7                         | max_pooling1d_9                 \n",
      "-------------------------------------------------------------------------------------------------------\n",
      "conv1d_7                         | max_pooling1d_9                  | average_pooling1d_1             \n",
      "-------------------------------------------------------------------------------------------------------\n",
      "max_pooling1d_9                  | average_pooling1d_1              | flatten_1                       \n",
      "-------------------------------------------------------------------------------------------------------\n",
      "average_pooling1d_1              | flatten_1                        | dense_2                         \n",
      "-------------------------------------------------------------------------------------------------------\n",
      "flatten_1                        | dense_2                          | dense_3                         \n",
      "-------------------------------------------------------------------------------------------------------\n",
      "dense_2                          | dense_3                          |                                 \n",
      "-------------------------------------------------------------------------------------------------------\n",
      "\n",
      "After optimization:\n",
      "———————————————————————————————————————————————————————————————————————————————————————————————————————\n",
      "Inputs                           | Layer                            | Outputs                         \n",
      "———————————————————————————————————————————————————————————————————————————————————————————————————————\n",
      "                                 | input_2                          | max_pooling1d_5                 \n",
      "-------------------------------------------------------------------------------------------------------\n",
      "input_2                          | max_pooling1d_5                  | conv1d_4                        \n",
      "-------------------------------------------------------------------------------------------------------\n",
      "max_pooling1d_5                  | conv1d_4                         | max_pooling1d_6                 \n",
      "-------------------------------------------------------------------------------------------------------\n",
      "conv1d_4                         | max_pooling1d_6                  | conv1d_5                        \n",
      "-------------------------------------------------------------------------------------------------------\n",
      "max_pooling1d_6                  | conv1d_5                         | max_pooling1d_7                 \n",
      "-------------------------------------------------------------------------------------------------------\n",
      "conv1d_5                         | max_pooling1d_7                  | conv1d_6                        \n",
      "-------------------------------------------------------------------------------------------------------\n",
      "max_pooling1d_7                  | conv1d_6                         | max_pooling1d_8                 \n",
      "-------------------------------------------------------------------------------------------------------\n",
      "conv1d_6                         | max_pooling1d_8                  | conv1d_7                        \n",
      "-------------------------------------------------------------------------------------------------------\n",
      "max_pooling1d_8                  | conv1d_7                         | max_pooling1d_9                 \n",
      "-------------------------------------------------------------------------------------------------------\n",
      "conv1d_7                         | max_pooling1d_9                  | average_pooling1d_1             \n",
      "-------------------------------------------------------------------------------------------------------\n",
      "max_pooling1d_9                  | average_pooling1d_1              | flatten_1                       \n",
      "-------------------------------------------------------------------------------------------------------\n",
      "average_pooling1d_1              | flatten_1                        | dense_2                         \n",
      "-------------------------------------------------------------------------------------------------------\n",
      "flatten_1                        | dense_2                          | dense_3                         \n",
      "-------------------------------------------------------------------------------------------------------\n",
      "dense_2                          | dense_3                          |                                 \n",
      "-------------------------------------------------------------------------------------------------------\n",
      "\n"
     ]
    }
   ],
   "source": [
    "res = kerascnn2c.Converter(output_path=Path('gsc_output_fixed'),\n",
    "                           fixed_point=FIXED_POINT, # Number of bits for the fractional part, Q7.9 format\n",
    "                           number_type='int16_t', # Data type for weights/activations (16 bits quantization)\n",
    "                           long_number_type='int32_t', # Data type for intermediate results\n",
    "                           number_min=-(2**15), # Minimum value for 16-bit signed integers\n",
    "                           number_max=(2**15)-1 # Maximum value for 16-bit signed integers\n",
    "                          ).convert_model(model)\n",
    "with open('gsc_model_fixed2.h', 'w') as f:\n",
    "    f.write(res)"
   ]
  },
  {
   "cell_type": "markdown",
   "metadata": {
    "tags": []
   },
   "source": [
    "## Compile the 16-bit fixed-point C code for x86 and evaluate on small dataset"
   ]
  },
  {
   "cell_type": "code",
   "execution_count": 17,
   "metadata": {},
   "outputs": [
    {
     "name": "stderr",
     "output_type": "stream",
     "text": [
      "gsc_output_fixed/model.c: In function 'void cnn(const number_t (*)[16000], number_t*)':\n",
      "gsc_output_fixed/model.c:162:18: warning: left operand of comma operator has no effect [-Wunused-value]\n",
      "  162 |     activations2.average_pooling1d_1_output,\n",
      "      |     ~~~~~~~~~~~~~^~~~~~~~~~~~~~~~~~~~~~~~~~\n",
      "Testing accuracy: 0.8\n"
     ]
    }
   ],
   "source": [
    "!g++ -Wall -Wextra -pedantic -Ofast -o gsc_fixed -Igsc_output_fixed/ gsc_output_fixed/model.c main.cpp \n",
    "!gsc_fixed x_test_gsc_250.csv y_test_gsc_250.csv\n",
    "\n",
    "#test on the entire dataset"
   ]
  }
 ],
 "metadata": {
  "kernelspec": {
   "display_name": "Python 3",
   "language": "python",
   "name": "python3"
  },
  "language_info": {
   "codemirror_mode": {
    "name": "ipython",
    "version": 3
   },
   "file_extension": ".py",
   "mimetype": "text/x-python",
   "name": "python",
   "nbconvert_exporter": "python",
   "pygments_lexer": "ipython3",
   "version": "3.9.0"
  }
 },
 "nbformat": 4,
 "nbformat_minor": 4
}
